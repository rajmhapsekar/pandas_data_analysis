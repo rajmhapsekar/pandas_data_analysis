{
 "cells": [
  {
   "cell_type": "code",
   "execution_count": 4,
   "id": "9c06061e",
   "metadata": {},
   "outputs": [
    {
     "data": {
      "text/plain": [
       "'C:\\\\Users\\\\rajmh\\\\pandas'"
      ]
     },
     "execution_count": 4,
     "metadata": {},
     "output_type": "execute_result"
    }
   ],
   "source": [
    "import shutil\n",
    "import os\n",
    "os.getcwd()"
   ]
  },
  {
   "cell_type": "code",
   "execution_count": 5,
   "id": "238c2b46",
   "metadata": {},
   "outputs": [],
   "source": [
    "os.chdir('C:/Users/rajmh/pandas')"
   ]
  },
  {
   "cell_type": "code",
   "execution_count": 6,
   "id": "8c2ba287",
   "metadata": {},
   "outputs": [
    {
     "data": {
      "text/plain": [
       "[' Data_thinker_(case_study-1)_project_1.ipynb',\n",
       " ' Data_thinker_(case_study-1)_project_4.ipynb',\n",
       " '.ipynb_checkpoints',\n",
       " '12_04_2025_adm',\n",
       " 'datamatics_int.ipynb',\n",
       " 'data_thinkera_heart_disease_analysis.ipynb',\n",
       " 'Data_thinker_(case_study_2)_project_2.ipynb',\n",
       " 'Data_Thinker_(case_study_3)_project_3_part_1.ipynb',\n",
       " 'Data_Thinker_(case_study_3)_project_3_part_2.ipynb',\n",
       " 'Data_Thinker_warmup.ipynb',\n",
       " 'demo',\n",
       " 'Functions.ipynb',\n",
       " 'LogisticRegression_Model_1.ipynb',\n",
       " 'LogisticRegression_Model_2.ipynb',\n",
       " 'merge_060825.ipynb',\n",
       " 'merge_2.ipynb',\n",
       " 'pr_9.ipynb',\n",
       " 'Untitled.ipynb',\n",
       " 'Untitled1.ipynb',\n",
       " 'Untitled2.ipynb',\n",
       " 'Untitled3.ipynb']"
      ]
     },
     "execution_count": 6,
     "metadata": {},
     "output_type": "execute_result"
    }
   ],
   "source": [
    "os.listdir('C:/Users/rajmh/pandas')"
   ]
  },
  {
   "cell_type": "code",
   "execution_count": 7,
   "id": "e6940f9d",
   "metadata": {},
   "outputs": [
    {
     "data": {
      "text/plain": [
       "['.anaconda',\n",
       " '.conda',\n",
       " '.condarc',\n",
       " '.continuum',\n",
       " '.ipynb_checkpoints',\n",
       " '.ipython',\n",
       " '.jupyter',\n",
       " '.matplotlib',\n",
       " '.spyder-py3',\n",
       " '.vscode',\n",
       " 'AppData',\n",
       " 'Application Data',\n",
       " 'Contacts',\n",
       " 'Cookies',\n",
       " 'datathinker_project_6.ipynb',\n",
       " 'data_thinker_project_10-Copy1.ipynb',\n",
       " 'data_thinker_project_10.ipynb',\n",
       " 'data_thinker_project_5.ipynb',\n",
       " 'Documents',\n",
       " 'Downloads',\n",
       " 'Favorites',\n",
       " 'Inventory_obt.csv',\n",
       " 'inventory_obt.ipynb',\n",
       " 'Jedi',\n",
       " 'Links',\n",
       " 'Local Settings',\n",
       " 'Music',\n",
       " 'My Documents',\n",
       " 'NetHood',\n",
       " 'NTUSER.DAT',\n",
       " 'ntuser.dat.LOG1',\n",
       " 'ntuser.dat.LOG2',\n",
       " 'NTUSER.DAT{ad13a5e9-3d1d-11f0-9699-ec5cd0c29481}.TM.blf',\n",
       " 'NTUSER.DAT{ad13a5e9-3d1d-11f0-9699-ec5cd0c29481}.TMContainer00000000000000000001.regtrans-ms',\n",
       " 'NTUSER.DAT{ad13a5e9-3d1d-11f0-9699-ec5cd0c29481}.TMContainer00000000000000000002.regtrans-ms',\n",
       " 'ntuser.ini',\n",
       " 'OneDrive',\n",
       " 'pandas',\n",
       " 'Pandas_practice_22_12_24.ipynb',\n",
       " 'PrintHood',\n",
       " 'Production.ipynb',\n",
       " 'project_8_data_thinker.ipynb',\n",
       " 'pyspark',\n",
       " 'quick_1.ipynb',\n",
       " 'Recent',\n",
       " 'Saved Games',\n",
       " 'Searches',\n",
       " 'SendTo',\n",
       " 'source',\n",
       " 'Start Menu',\n",
       " 'Templates',\n",
       " 'Untitled Folder',\n",
       " 'Untitled Folder 1',\n",
       " 'Untitled Folder 2',\n",
       " 'Untitled.ipynb',\n",
       " 'Untitled1.ipynb',\n",
       " 'Untitled2.ipynb',\n",
       " 'Untitled3.ipynb',\n",
       " 'Videos']"
      ]
     },
     "execution_count": 7,
     "metadata": {},
     "output_type": "execute_result"
    }
   ],
   "source": [
    "os.listdir('C:/Users/rajmh')"
   ]
  },
  {
   "cell_type": "code",
   "execution_count": null,
   "id": "815f2dcd",
   "metadata": {},
   "outputs": [],
   "source": []
  },
  {
   "cell_type": "code",
   "execution_count": 12,
   "id": "bed5683e",
   "metadata": {},
   "outputs": [
    {
     "data": {
      "text/plain": [
       "'C:/Users/rajmh/pandas\\\\data_thinker_project_5.ipynb'"
      ]
     },
     "execution_count": 12,
     "metadata": {},
     "output_type": "execute_result"
    }
   ],
   "source": [
    "shutil.copy('C:/Users/rajmh/data_thinker_project_5.ipynb', 'C:/Users/rajmh/pandas')"
   ]
  },
  {
   "cell_type": "code",
   "execution_count": null,
   "id": "d79c7892",
   "metadata": {},
   "outputs": [],
   "source": []
  },
  {
   "cell_type": "code",
   "execution_count": null,
   "id": "c090454f",
   "metadata": {},
   "outputs": [],
   "source": []
  },
  {
   "cell_type": "code",
   "execution_count": null,
   "id": "354a922e",
   "metadata": {},
   "outputs": [],
   "source": []
  }
 ],
 "metadata": {
  "kernelspec": {
   "display_name": "Python 3 (ipykernel)",
   "language": "python",
   "name": "python3"
  },
  "language_info": {
   "codemirror_mode": {
    "name": "ipython",
    "version": 3
   },
   "file_extension": ".py",
   "mimetype": "text/x-python",
   "name": "python",
   "nbconvert_exporter": "python",
   "pygments_lexer": "ipython3",
   "version": "3.11.5"
  }
 },
 "nbformat": 4,
 "nbformat_minor": 5
}
